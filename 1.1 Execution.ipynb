{
 "cells": [
  {
   "cell_type": "code",
   "execution_count": null,
   "id": "e2c53600",
   "metadata": {},
   "outputs": [],
   "source": [
    "# memory is allocated in the heap\n",
    "# 1) .py file(source code) is compiled into .pyc file(bytecode)\n",
    "# 2) .pyc file is executed by the Python Virtual Machine(PVM)\n",
    "# 3) PVM is an interpreter that executes the bytecode line by line\n",
    "# 4) converts the bytecode into machine code\n",
    "# 5) machine code is executed by the CPU\n",
    "# 6) CPU executes the machine code and gives the output\n",
    "# 7) The output is displayed on the screen\n",
    "# 8) The program terminates\n",
    "# 9) The memory is freed\n"
   ]
  }
 ],
 "metadata": {
  "language_info": {
   "name": "python"
  }
 },
 "nbformat": 4,
 "nbformat_minor": 5
}
