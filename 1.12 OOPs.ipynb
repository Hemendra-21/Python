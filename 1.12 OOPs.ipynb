{
 "cells": [
  {
   "cell_type": "markdown",
   "id": "879c0cc0",
   "metadata": {},
   "source": [
    "### OOP"
   ]
  },
  {
   "cell_type": "markdown",
   "id": "bf06e1c6",
   "metadata": {},
   "source": [
    "#### Classes and Objects"
   ]
  },
  {
   "cell_type": "code",
   "execution_count": null,
   "id": "2b9eb66f",
   "metadata": {},
   "outputs": [],
   "source": [
    "# explain __init__() method\n",
    "\n",
    "# __init__() method is a special method in Python classes\n",
    "# It is called when an object of the class is created\n",
    "# It allows the class to initialize the attributes of the class\n",
    "# It is also known as the constructor of the class\n",
    "# The __init__() method can take arguments, which can be used to initialize the attributes of the class\n",
    "# The first argument of the __init__() method is always self, which refers to the instance of the class\n",
    "# The __init__() method can also have default arguments, which can be used to set default values for the attributes of the class\n",
    "# The __init__() method can also be used to perform any other initialization tasks that are required for the class\n",
    "# The __init__() method is not mandatory in a class, but it is a good practice to use it to initialize the attributes of the class\n",
    "\n",
    "\n",
    "class Person:\n",
    "    def __init__(self, name = 'Hemendra', age):\n",
    "        self.name = name\n",
    "        self.age = age\n",
    "\n",
    "    def display(self):\n",
    "        print(f\"Name: {self.name}, Age: {self.age}\")\n",
    "\n",
    "# Creating an object of the Person class\n",
    "person1 = Person(\"Alice\", 30)\n",
    "person1.display()  # Output: Name: Alice, Age: 30\n",
    "# Creating another object of the Person class\n",
    "person2 = Person(\"Bob\", 25)\n",
    "person2.display()  # Output: Name: Bob, Age: 25\n",
    "# The __init__() method is called automatically when an object of the class is created\n",
    "# The attributes name and age are initialized with the values passed to the __init__() method\n",
    "# The display() method is used to print the values of the attributes\n",
    "# The __init__() method can also have default arguments\n",
    "\n"
   ]
  },
  {
   "cell_type": "code",
   "execution_count": null,
   "id": "267bc034",
   "metadata": {},
   "outputs": [],
   "source": [
    "# self - The self parameter is a reference to the current instance of the class\n",
    "\n",
    "# It is used to access variables that belong to the class\n",
    "# It does not have to be named self, but it is a strong convention in Python to name it self\n",
    "# The self parameter allows you to access the attributes and methods of the class in Python\n",
    "# It is used to differentiate between instance variables and local variables\n",
    "# The self parameter is automatically passed to the instance methods of the class\n",
    "# It is not passed when calling the method, but it is passed when the method is defined\n",
    "\n",
    "# most important point about self is that it is not a keyword in Python\n",
    "# It is just a naming convention\n",
    "# You can use any name instead of self, but it is not recommended\n",
    "# because it will make the code less readable and less understandable"
   ]
  },
  {
   "cell_type": "markdown",
   "id": "4ad9622b",
   "metadata": {},
   "source": [
    "#### Class vs Instance Variables"
   ]
  },
  {
   "cell_type": "code",
   "execution_count": null,
   "id": "8df705d2",
   "metadata": {},
   "outputs": [],
   "source": [
    "# class vs instance variables\n",
    "\n",
    "# class variables are shared by all instances of the class\n",
    "# instance variables are unique to each instance of the class\n",
    "\n",
    "# class variables are defined inside the class but outside any instance methods\n",
    "# instance variables are defined inside instance methods\n",
    "\n",
    "# class variables are accessed using the class name or the instance name\n",
    "# instance variables are accessed using the instance name only\n",
    "\n",
    "# class variables are created when the class is defined\n",
    "# instance variables are created when the __init__() method is called\n",
    "\n",
    "\n",
    "# class variables are used to store data that is common to all instances of the class\n",
    "# instance variables are used to store data that is unique to each instance of the class\n",
    "\n",
    "\n",
    "\n",
    "class Example:\n",
    "    # Class variable\n",
    "    class_variable = \"Shared by all instances\"\n",
    "\n",
    "    def __init__(self, instance_variable):\n",
    "        # Instance variable\n",
    "        self.instance_variable = instance_variable\n",
    "\n",
    "# Creating objects\n",
    "obj1 = Example(\"Unique to obj1\")\n",
    "obj2 = Example(\"Unique to obj2\")\n",
    "\n",
    "# Accessing class and instance variables\n",
    "print(obj1.class_variable)  # Output: Shared by all instances\n",
    "print(obj2.class_variable)  # Output: Shared by all instances\n",
    "\n",
    "print(obj1.instance_variable)  # Output: Unique to obj1\n",
    "print(obj2.instance_variable)  # Output: Unique to obj2\n",
    "\n",
    "# Modifying class variable\n",
    "Example.class_variable = \"Modified for all instances\"\n",
    "print(obj1.class_variable)  # Output: Modified for all instances\n",
    "print(obj2.class_variable)  # Output: Modified for all instances\n",
    "\n",
    "# Modifying instance variable\n",
    "obj1.instance_variable = \"Modified only for obj1\"\n",
    "print(obj1.instance_variable)  # Output: Modified only for obj1\n",
    "print(obj2.instance_variable)  # Output: Unique to obj2"
   ]
  },
  {
   "cell_type": "code",
   "execution_count": null,
   "id": "b8456d5e",
   "metadata": {},
   "outputs": [],
   "source": [
    "# Tricky Behavior:\n",
    "\n",
    "# Modifying a class variable through an instance creates a new instance variable instead of modifying the class variable.\n",
    "# Example:\n",
    "\n",
    "class Example:\n",
    "    class_variable = 'shared across all instances'\n",
    "    \n",
    "    def __init__(self,instance_variable):\n",
    "        self.instance_variable = instance_variable\n",
    "    \n",
    "\n",
    "obj1 = Example('specific to instance 1')\n",
    "obj2 = Example('specific to instance 2')\n",
    "    \n",
    "\n",
    "\n",
    "\n",
    "# print(Example.class_variable)\n",
    "\n",
    "# print(obj1.class_variable)\n",
    "\n",
    "\n",
    "Example.class_variable = 'modified across all instances'\n",
    "\n",
    "\n",
    "obj1.class_variable = 'modified across all instances done by obj1'\n",
    "\n",
    "print(obj2.class_variable)\n",
    "\n",
    "\n",
    "\n",
    "# Here, obj1.class_variable becomes an instance variable, leaving the class variable unchanged."
   ]
  },
  {
   "cell_type": "markdown",
   "id": "66ca657f",
   "metadata": {},
   "source": [
    "#### Inheritance and Method Overloading"
   ]
  },
  {
   "cell_type": "code",
   "execution_count": null,
   "id": "78e1fc2d",
   "metadata": {},
   "outputs": [],
   "source": [
    "# Inheritance syntax:\n",
    "\n",
    "class Parent:\n",
    "    def __init__(self, name):\n",
    "        self.name = name\n",
    "\n",
    "    def greet(self):\n",
    "        print(f\"Hello, I am {self.name}.\")\n",
    "\n",
    "class Child(Parent):\n",
    "    def __init__(self, name, age):\n",
    "        super().__init__(name)  # Call the parent class constructor\n",
    "        self.age = age\n",
    "\n",
    "    def display_age(self):\n",
    "        print(f\"I am {self.age} years old.\")\n",
    "\n",
    "child = Child(\"Alice\", 10)\n",
    "child.greet()         # Inherited method\n",
    "child.display_age()   # Child class method"
   ]
  },
  {
   "cell_type": "markdown",
   "id": "9b53a29a",
   "metadata": {},
   "source": [
    "#### Method Overloading"
   ]
  },
  {
   "cell_type": "code",
   "execution_count": null,
   "id": "cd666a49",
   "metadata": {},
   "outputs": [],
   "source": [
    "# method overloading\n",
    "# Method overloading is a feature in Python that allows a class to have multiple methods with the same name but different parameters\n",
    "# It is not supported in Python directly, but it can be achieved using default arguments or variable-length arguments\n",
    "\n",
    "class MathOperations:\n",
    "    def add(self, a, b):\n",
    "        return a + b\n",
    "\n",
    "    def add(self, a, b, c=0):\n",
    "        return a + b + c\n",
    "    # This will override the previous add method\n",
    "    # The last defined method will be used\n",
    "    # To achieve method overloading, we can use default arguments or variable-length arguments\n",
    "    def add(self, *args):\n",
    "        return sum(args)\n",
    "    # This will accept any number of arguments and return their sum\n",
    "    # This is a way to achieve method overloading in Python\n",
    "math = MathOperations()\n",
    "print(math.add(1, 2))         # Output: 3\n",
    "print(math.add(1, 2, 3))      # Output: 6\n",
    "print(math.add(1, 2, 3, 4))   # Output: 10\n",
    "\n",
    "\n",
    "\n",
    "\n",
    "\n",
    "# method overriding\n",
    "# Method overriding is a feature in Python that allows a subclass to provide a specific implementation of a method that is already defined in its superclass\n",
    "# It is used to change the behavior of a method in the subclass\n",
    "\n",
    "class Parent:\n",
    "    def greet(self):\n",
    "        print(\"Hello from Parent class.\")\n",
    "\n",
    "class Child(Parent):\n",
    "    def greet(self):\n",
    "        print(\"Hello from Child class.\")\n",
    "        super().greet()  # Call the parent class method\n",
    "# Creating an object of the Child class\n",
    "child = Child()\n",
    "child.greet()  # Output: Hello from Child class. Hello from Parent class.\n",
    "# In this example, the Child class overrides the greet() method of the Parent class\n",
    "# When the greet() method is called on the Child class object, it executes the overridden method in the Child class\n",
    "# and then calls the parent class method using super().greet()\n",
    "# This is how method overriding works in Python\n"
   ]
  },
  {
   "cell_type": "markdown",
   "id": "ad3e71ca",
   "metadata": {},
   "source": [
    "#### Polymorphism"
   ]
  },
  {
   "cell_type": "code",
   "execution_count": null,
   "id": "015a0c91",
   "metadata": {},
   "outputs": [],
   "source": [
    "# polymorphism\n",
    "# Polymorphism allows objects of different classes to be treated as objects of a common superclass.\n",
    "# It is achieved through method overriding and interfaces. \n",
    "\n",
    "\n",
    "\n",
    "class Animal:\n",
    "    class_variable = 'hello'\n",
    "    def speak(self):\n",
    "        print('from animal class')\n",
    "\n",
    "class Dog(Animal):\n",
    "    def speak(self):\n",
    "        print('from dog class')\n",
    "\n",
    "class Cat(Animal):\n",
    "    def speak(self):\n",
    "        print('from cat class')\n",
    "\n",
    "animals = [Animal(), Dog(), Cat()]\n",
    "\n",
    "for animal in animals:\n",
    "    animal.speak()"
   ]
  },
  {
   "cell_type": "markdown",
   "id": "a890818e",
   "metadata": {},
   "source": [
    "####  Polymorphism using Abstract classes and Abstract methods\n",
    "\n",
    "\n",
    "- An abstract class is a class that cannot be instantiated (i.e., you can't create an object of \n",
    "it) and is meant to be inherited by other classes. It often contains abstract methods, which are methods declared but not implemented in the abstract class. The derived (child) classes must override these methods.\n",
    "\n",
    "- In Python, abstract classes are created using the abc module (ABC and @abstractmethod).\n",
    "\n",
    "\n",
    "\n",
    "\n",
    "\n",
    "#### 🎯 Why Use Abstract Classes in Polymorphism?\n",
    "\n",
    "- Polymorphism allows different classes to be treated through a common interface (typically a parent class).\n",
    "\n",
    "- Abstract classes help define that common interface while enforcing that certain methods must be implemented by all subclasses.\n",
    "\n",
    "- This ensures a consistent structure and promotes code reliability and scalability.\n",
    "\n"
   ]
  },
  {
   "cell_type": "code",
   "execution_count": null,
   "id": "027895ef",
   "metadata": {},
   "outputs": [],
   "source": [
    "from abc import ABC, abstractmethod\n",
    "\n",
    "# Abstract class\n",
    "class Animal(ABC):\n",
    "    @abstractmethod\n",
    "    def make_sound(self):\n",
    "        pass\n",
    "\n",
    "# Derived class 1\n",
    "class Dog(Animal):\n",
    "    def make_sound(self):\n",
    "        return \"Woof!\"\n",
    "\n",
    "# Derived class 2\n",
    "class Cat(Animal):\n",
    "    def make_sound(self):\n",
    "        return \"Meow!\"\n",
    "\n",
    "# Derived class 3\n",
    "class Cow(Animal):\n",
    "    def make_sound(self):\n",
    "        return \"Moo!\"\n",
    "\n",
    "# Polymorphism in action\n",
    "def animal_sound(animal: Animal): \n",
    "    print(animal.make_sound())\n",
    "\n",
    "# Creating objects of subclasses\n",
    "dog = Dog()\n",
    "cat = Cat()\n",
    "cow = Cow()\n",
    "\n",
    "# All treated as Animal\n",
    "animal_sound(dog)  # Output: Woof!\n",
    "animal_sound(cat)  # Output: Meow!\n",
    "animal_sound(cow)  # Output: Moo!\n",
    "\n",
    "\n",
    "\n",
    "# # animal is a parameter.\n",
    "# : Animal means: \"This parameter should be an object of type Animal or a subclass of it.\"\n"
   ]
  },
  {
   "cell_type": "code",
   "execution_count": null,
   "id": "a7ae8ec7",
   "metadata": {},
   "outputs": [],
   "source": [
    "# what if i didnt used abstract method in sub class\n",
    "\n",
    "\n",
    "from abc import ABC, abstractmethod\n",
    "\n",
    "class Test(ABC):\n",
    "\n",
    "    @abstractmethod\n",
    "    def method1(self):\n",
    "        pass \n",
    "    \n",
    "\n",
    "class Example(Test):\n",
    "    def method2(self):\n",
    "        pass \n",
    "\n",
    "obj1 = Example()\n",
    "\n",
    "# TypeError: Can't instantiate abstract class Example with abstract method method1"
   ]
  },
  {
   "cell_type": "markdown",
   "id": "eb111908",
   "metadata": {},
   "source": [
    "### Special Methods"
   ]
  },
  {
   "cell_type": "markdown",
   "id": "6a6f7265",
   "metadata": {},
   "source": [
    "`__str__`"
   ]
  },
  {
   "cell_type": "code",
   "execution_count": null,
   "id": "76add277",
   "metadata": {},
   "outputs": [],
   "source": [
    "class Person:\n",
    "    def __init__(self, name, age):\n",
    "        self.name = name\n",
    "        self.age = age\n",
    "\n",
    "    def __str__(self):\n",
    "        return f\"{self.name}, {self.age} years old\"\n",
    "\n",
    "person = Person(\"Alice\", 30)\n",
    "\n",
    "print(person)  # Output: Alice, 30 years old\n",
    "# print(person) is equals to next line:\n",
    "print(person.__str__())"
   ]
  },
  {
   "cell_type": "markdown",
   "id": "4f72aab0",
   "metadata": {},
   "source": [
    "`__add__`"
   ]
  },
  {
   "cell_type": "code",
   "execution_count": null,
   "id": "7c0c2954",
   "metadata": {},
   "outputs": [],
   "source": [
    "class Point:\n",
    "    def __init__(self, x, y):\n",
    "        self.x = x\n",
    "        self.y = y\n",
    "\n",
    "    def __add__(self, other):\n",
    "        return Point(self.x + other.x, self.y + other.y)\n",
    "\n",
    "    def __str__(self):\n",
    "        return f\"({self.x}, {self.y})\"\n",
    "\n",
    "p1 = Point(1, 2)\n",
    "p2 = Point(3, 4)\n",
    "print(p1 + p2)  # Output: (4, 6)\n",
    "\n",
    "# another way\n",
    "\n",
    "result = p1.__add__(p2)\n",
    "print(result.__str__())"
   ]
  },
  {
   "cell_type": "markdown",
   "id": "4c4f66a9",
   "metadata": {},
   "source": [
    "`__len__`"
   ]
  },
  {
   "cell_type": "code",
   "execution_count": null,
   "id": "b76aa24d",
   "metadata": {},
   "outputs": [],
   "source": [
    "class MyList:\n",
    "    def __init__(self,items):\n",
    "        self.items = items \n",
    "    \n",
    "    def __len__(self):\n",
    "        return len(self.items)\n",
    "\n",
    "    def __str__(self):\n",
    "        return f\"length is {len(self)}\"\n",
    "\n",
    "\n",
    "a = MyList([1,2,3,4])\n",
    "\n",
    "print(len(a.items))\n",
    "# or\n",
    "print(a.__len__())\n",
    "# or\n",
    "print(a)"
   ]
  },
  {
   "cell_type": "markdown",
   "id": "6a394ffa",
   "metadata": {},
   "source": [
    "`__getitem__`"
   ]
  },
  {
   "cell_type": "code",
   "execution_count": null,
   "id": "35a845e8",
   "metadata": {},
   "outputs": [],
   "source": [
    "class MyList:\n",
    "    def __init__(self, items):\n",
    "        self.items = items\n",
    "\n",
    "    def __getitem__(self,index):\n",
    "        return self.items[index]\n",
    "\n",
    "    def __str__(self):\n",
    "        return f\"hello {self.items}\"\n",
    "\n",
    "a = MyList([1,2,3,4,5])\n",
    "\n",
    "\n",
    "print(a.items[2])\n",
    "# or\n",
    "print(a[4])\n",
    "\n",
    "print(a)"
   ]
  },
  {
   "cell_type": "markdown",
   "id": "bcdd0617",
   "metadata": {},
   "source": [
    "`__call__` - makes an object callable like a function"
   ]
  },
  {
   "cell_type": "code",
   "execution_count": null,
   "id": "f5889e67",
   "metadata": {},
   "outputs": [],
   "source": [
    "class Greeting:\n",
    "    def __init__(self,name):\n",
    "        self.name = name \n",
    "    \n",
    "    def __call__(self):\n",
    "        return f\"hello {self.name}\"\n",
    "    \n",
    "\n",
    "greet = Greeting('Hemendra')\n",
    "\n",
    "print(greet())"
   ]
  },
  {
   "cell_type": "markdown",
   "id": "9d287203",
   "metadata": {},
   "source": [
    "`__eq__` : Equality Comparison"
   ]
  },
  {
   "cell_type": "code",
   "execution_count": null,
   "id": "7ac608df",
   "metadata": {},
   "outputs": [],
   "source": [
    "class Person:\n",
    "    def __init__(self, name, age):\n",
    "        self.name = name\n",
    "        self.age = age\n",
    "\n",
    "    def __eq__(self, other):\n",
    "        return self.name == other.name and self.age == other.age\n",
    "\n",
    "p1 = Person(\"Alice\", 30)\n",
    "p2 = Person(\"Alice\", 30)\n",
    "print(p1 == p2)  # Output: True"
   ]
  },
  {
   "cell_type": "markdown",
   "id": "7a64b220",
   "metadata": {},
   "source": [
    "`__del__` : Called when an object is deleted or goes out of scope."
   ]
  },
  {
   "cell_type": "code",
   "execution_count": null,
   "id": "438d13e4",
   "metadata": {},
   "outputs": [],
   "source": [
    "class Person:\n",
    "    def __del__(self):\n",
    "        print(\"Object is being deleted\")\n",
    "\n",
    "person = Person()\n",
    "del person  # Output: Object is being deleted"
   ]
  },
  {
   "cell_type": "markdown",
   "id": "98aef2a8",
   "metadata": {},
   "source": [
    "`__lt__` \n",
    "\n",
    "The __lt__ method in Python is a special (magic) method used to define the behavior of the less than (<) operator for objects of a class. It allows you to compare two objects based on custom logic.\n",
    "\n"
   ]
  },
  {
   "cell_type": "code",
   "execution_count": null,
   "id": "1318e4bf",
   "metadata": {},
   "outputs": [],
   "source": [
    "class Person:\n",
    "    def __init__(self, name, age):\n",
    "        self.name = name\n",
    "        self.age = age\n",
    "\n",
    "    def __lt__(self, other):\n",
    "        return self.age < other.age  # Compare based on age\n",
    "\n",
    "# Create two Person objects\n",
    "p1 = Person(\"Alice\", 25)\n",
    "p2 = Person(\"Bob\", 30)\n",
    "\n",
    "# Compare using the < operator\n",
    "print(p1 < p2)  # Output: True (because 25 < 30)\n",
    "print(p2 < p1)  # Output: False"
   ]
  },
  {
   "cell_type": "markdown",
   "id": "ece8b20d",
   "metadata": {},
   "source": [
    "### @classmethod and @staticmethod"
   ]
  },
  {
   "cell_type": "markdown",
   "id": "ec02acad",
   "metadata": {},
   "source": [
    "#### class method"
   ]
  },
  {
   "cell_type": "code",
   "execution_count": null,
   "id": "ce92eaf2",
   "metadata": {},
   "outputs": [],
   "source": [
    "class MyClass:\n",
    "    class_variable = \"I am a class variable\"\n",
    "\n",
    "    @classmethod\n",
    "    def class_method(cls):\n",
    "        print(f\"Accessing class variable: {cls.class_variable}\")\n",
    "        cls.class_variable = \"Modified class variable\"\n",
    "        print(f\"Modified class variable: {cls.class_variable}\")\n",
    "\n",
    "# Call the class method\n",
    "MyClass.class_method()\n",
    "\n",
    "# Output:\n",
    "# Accessing class variable: I am a class variable\n",
    "# Modified class variable: Modified class variable"
   ]
  },
  {
   "cell_type": "markdown",
   "id": "39541fc8",
   "metadata": {},
   "source": [
    "##### Factory Method Example"
   ]
  },
  {
   "cell_type": "code",
   "execution_count": null,
   "id": "cd358504",
   "metadata": {},
   "outputs": [],
   "source": [
    "class Person:\n",
    "    def __init__(self,name,age):\n",
    "        self.name = name \n",
    "        self.age = age \n",
    "    \n",
    "    @classmethod\n",
    "    def createObjectFrom(cls, details_string):\n",
    "        name, age = details_string.split(',')\n",
    "        return cls(name, int(age))\n",
    "\n",
    "    \n",
    "\n",
    "person1 = Person.createObjectFrom('Hemendra,23')\n",
    "\n",
    "print(person1.name)"
   ]
  },
  {
   "cell_type": "markdown",
   "id": "0c471bf7",
   "metadata": {},
   "source": [
    "#### Static method"
   ]
  },
  {
   "cell_type": "markdown",
   "id": "2f48baaf",
   "metadata": {},
   "source": [
    "- static method\n",
    "    - A @staticmethod is a method that is bound to the class but does not take the class (cls) or instance (self) as its first argument.\n",
    "    \n",
    "    - It behaves like a regular function but belongs to the class's namespace.\n",
    "    - It cannot access or modify class-level or instance-level data directly.\n",
    "\n",
    "\n",
    "- Use Cases\n",
    "    - Utility methods: Methods that perform a task related to the class but do not need access to class or instance data."
   ]
  },
  {
   "cell_type": "code",
   "execution_count": null,
   "id": "dfac1fd1",
   "metadata": {},
   "outputs": [],
   "source": [
    "class MathOperations:\n",
    "    @staticmethod\n",
    "    def add(a, b):\n",
    "        return a + b\n",
    "\n",
    "    @staticmethod\n",
    "    def multiply(a, b):\n",
    "        return a * b\n",
    "\n",
    "# Call static methods\n",
    "print(MathOperations.add(5, 3))       # Output: 8\n",
    "print(MathOperations.multiply(5, 3)) # Output: 15"
   ]
  },
  {
   "cell_type": "code",
   "execution_count": null,
   "id": "0ee12e05",
   "metadata": {},
   "outputs": [],
   "source": [
    "# combined Example:\n",
    "\n",
    "class Example:\n",
    "    class_variable = \"Shared by all instances\"\n",
    "\n",
    "    def __init__(self, instance_variable):\n",
    "        self.instance_variable = instance_variable\n",
    "\n",
    "    @classmethod\n",
    "    def modify_class_variable(cls, value):\n",
    "        cls.class_variable = value\n",
    "\n",
    "    @staticmethod\n",
    "    def utility_method():\n",
    "        print(\"This is a utility method.\")\n",
    "\n",
    "# Using class method\n",
    "Example.modify_class_variable(\"New value\")\n",
    "print(Example.class_variable)  # Output: New value\n",
    "\n",
    "# Using static method\n",
    "Example.utility_method()  # Output: This is a utility method."
   ]
  },
  {
   "cell_type": "markdown",
   "id": "1eac6666",
   "metadata": {},
   "source": [
    "##### When to Use\n",
    "- Use @classmethod when you need to work with class-level data or create factory methods.\n",
    "\n",
    "- Use @staticmethod for utility functions that do not depend on class or instance data."
   ]
  },
  {
   "cell_type": "markdown",
   "id": "a177574e",
   "metadata": {},
   "source": [
    "### Property decorators"
   ]
  },
  {
   "cell_type": "markdown",
   "id": "a5cef5c8",
   "metadata": {},
   "source": [
    "##### The `@property` decorator in Python is used to define methods in a class that can be accessed like attributes. It allows you to encapsulate instance variables and provide controlled access to them. This is particularly useful when you want to add logic to getting, setting, or deleting an attribute without changing the way the attribute is accessed.\n",
    "\n",
    "##### Key Features of `@property`\n",
    "- Encapsulation: It allows you to hide the internal implementation of an attribute and expose it as a property.\n",
    "\n",
    "- Read-Only Properties: You can create properties that can only be read but not modified.\n",
    "- Validation: You can add validation logic when setting or getting an attribute.\n",
    "- Backward Compatibility: You can refactor a class to use methods instead of attributes without changing the interface.\n",
    "\n",
    "\n",
    "##### Syntax of @property\n",
    "The `@property` decorator is used with a method to make it act like a getter. You can also define a setter and deleter for the property using `@<property_name>.setter` and `@<property_name>.deleter`."
   ]
  },
  {
   "cell_type": "code",
   "execution_count": null,
   "id": "19f49509",
   "metadata": {},
   "outputs": [],
   "source": [
    "# Example 1: Basic Usage of @property\n",
    "\n",
    "class Person:\n",
    "    def __init__(self, name):\n",
    "        self._name = name  # Private attribute\n",
    "\n",
    "    @property\n",
    "    def name(self):\n",
    "        return self._name\n",
    "\n",
    "    @name.setter\n",
    "    def name(self, value):\n",
    "        if not value:\n",
    "            raise ValueError(\"Name cannot be empty\")\n",
    "        self._name = value\n",
    "\n",
    "    @name.deleter\n",
    "    def name(self):\n",
    "        print(\"Deleting name...\")\n",
    "        del self._name\n",
    "\n",
    "# Usage\n",
    "person = Person(\"Alice\")\n",
    "print(person.name)  # Accessing the name property (getter)\n",
    "\n",
    "person.name = \"Bob\"  # Setting the name property (setter)\n",
    "print(person.name)\n",
    "\n",
    "del person.name  # Deleting the name property (deleter)"
   ]
  },
  {
   "cell_type": "code",
   "execution_count": null,
   "id": "385972f9",
   "metadata": {},
   "outputs": [],
   "source": [
    "# Example 2: Read-Only Property\n",
    "# If you only define a getter and omit the setter, the property becomes read-only.\n",
    "\n",
    "class Circle:\n",
    "    def __init__(self, radius):\n",
    "        self._radius = radius\n",
    "\n",
    "    @property\n",
    "    def radius(self):\n",
    "        return self._radius\n",
    "\n",
    "    @property\n",
    "    def area(self):\n",
    "        return 3.14 * self._radius ** 2\n",
    "\n",
    "# Usage\n",
    "circle = Circle(5)\n",
    "print(circle.radius)  # Output: 5\n",
    "print(circle.area)    # Output: 78.5\n",
    "\n",
    "# circle.area = 100  # Raises AttributeError: can't set attribute"
   ]
  },
  {
   "cell_type": "code",
   "execution_count": null,
   "id": "d7f2ae21",
   "metadata": {},
   "outputs": [],
   "source": [
    "# Example 3: Validation with @property\n",
    "\n",
    "class Temperature:\n",
    "    def __init__(self, celsius):\n",
    "        self._celsius = celsius\n",
    "\n",
    "    @property\n",
    "    def celsius(self):\n",
    "        return self._celsius\n",
    "\n",
    "    @celsius.setter\n",
    "    def celsius(self, value):\n",
    "        if value < -273.15:\n",
    "            raise ValueError(\"Temperature cannot be below absolute zero!\")\n",
    "        self._celsius = value\n",
    "\n",
    "# Usage\n",
    "temp = Temperature(25)\n",
    "print(temp.celsius)  # Output: 25\n",
    "\n",
    "temp.celsius = -300  # Raises ValueError"
   ]
  },
  {
   "cell_type": "code",
   "execution_count": null,
   "id": "fe0df8ac",
   "metadata": {},
   "outputs": [],
   "source": [
    "# Example 4: Using @property for Derived Attributes\n",
    "# You can use @property to calculate derived attributes dynamically.\n",
    "\n",
    "class Rectangle:\n",
    "    def __init__(self, width, height):\n",
    "        self.width = width\n",
    "        self.height = height\n",
    "\n",
    "    @property\n",
    "    def area(self):\n",
    "        return self.width * self.height\n",
    "\n",
    "    @property\n",
    "    def perimeter(self):\n",
    "        return 2 * (self.width + self.height)\n",
    "\n",
    "# Usage\n",
    "rect = Rectangle(10, 5)\n",
    "print(rect.area)       # Output: 50\n",
    "print(rect.perimeter)  # Output: 30"
   ]
  },
  {
   "cell_type": "markdown",
   "id": "0bdd7cb3",
   "metadata": {},
   "source": [
    "When to Use @property\n",
    "\n",
    "- Use @property when you want to control access to an attribute (e.g., validation, computed properties).\n",
    "- Avoid using @property for simple attributes that do not require additional logic, as it can add unnecessary complexity."
   ]
  }
 ],
 "metadata": {
  "language_info": {
   "name": "python"
  }
 },
 "nbformat": 4,
 "nbformat_minor": 5
}
