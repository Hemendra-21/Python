{
 "cells": [
  {
   "cell_type": "markdown",
   "id": "a9caa256",
   "metadata": {},
   "source": [
    "### 1) Data Types in Python"
   ]
  },
  {
   "cell_type": "markdown",
   "id": "5254abcd",
   "metadata": {},
   "source": [
    "#### Primitive Types"
   ]
  },
  {
   "cell_type": "code",
   "execution_count": null,
   "id": "bfa98cf6",
   "metadata": {},
   "outputs": [],
   "source": [
    "# 1) int: Integer numbers.\n",
    "\n",
    "x = 10  # Example of an integer\n",
    "print(type(x))  # Output: <class 'int'>\n",
    "\n",
    "\n",
    "# 2) float: Floating-point numbers (decimals).\n",
    "y = 10.5  # Example of a float\n",
    "print(type(y))  # Output: <class 'float'>\n",
    "\n",
    "\n",
    "# 3) str: Strings (text).\n",
    "name = \"Alice\"  # Example of a string\n",
    "print(type(name))  # Output: <class 'str'>\n",
    "\n",
    "\n",
    "# 4) bool: Boolean values (True or False).\n",
    "is_active = True  # Example of a boolean\n",
    "print(type(is_active))  # Output: <class 'bool'>\n",
    "\n",
    "\n",
    "\n",
    "# 5) complex: Complex numbers (a + bj).\n",
    "z = 3 + 4j  # Example of a complex number\n",
    "print(type(z))  # Output: <class 'complex'>"
   ]
  },
  {
   "cell_type": "markdown",
   "id": "a61015fa",
   "metadata": {},
   "source": [
    "#### Type Casting"
   ]
  },
  {
   "cell_type": "code",
   "execution_count": null,
   "id": "a0fe5cde",
   "metadata": {},
   "outputs": [],
   "source": [
    "# int()\n",
    "a = int(10.5)  # Converts float to int\n",
    "print(a)  # Output: 10\n",
    "\n",
    "b = int(\"20\")  # Converts string to int\n",
    "print(b)  # Output: 20\n",
    "\n",
    "\n",
    "# str()\n",
    "c = str(100)  # Converts int to string\n",
    "print(c)  # Output: '100'\n",
    "\n",
    "d = str(10.5)  # Converts float to string\n",
    "print(d)  # Output: '10.5'\n",
    "\n",
    "\n",
    "# float()\n",
    "e = float(10)  # Converts int to float\n",
    "print(e)  # Output: 10.0\n",
    "f = float(\"20.5\")  # Converts string to float\n",
    "print(f)  # Output: 20.5\n",
    "\n",
    "\n",
    "# bool()\n",
    "g = bool(0)  # Converts int to bool (0 is False)\n",
    "print(g)  # Output: False\n",
    "\n",
    "h = bool(1)  # Converts int to bool (non-zero is True)\n",
    "print(h)  # Output: True\n",
    "\n",
    "i = bool(\"\")  # Converts empty string to bool (empty is False)\n",
    "print(i)  # Output: False\n",
    "\n",
    "j = bool(\"Hello\")  # Converts non-empty string to bool (non-empty is True)\n",
    "print(j)  # Output: True\n",
    "\n",
    "\n",
    "# complex()\n",
    "k = complex(10)  # Converts int to complex\n",
    "print(k)  # Output: (10+0j)\n",
    "\n",
    "l = complex(10.5)  # Converts float to complex\n",
    "print(l)  # Output: (10.5+0j)\n",
    "\n",
    "m = complex(\"3+4j\")  # Converts string to complex\n",
    "print(m)  # Output: (3+4j)\n",
    "\n",
    "n = complex(3, 4)  # Converts real and imaginary parts to complex\n",
    "print(n)  # Output: (3+4j)\n",
    "\n"
   ]
  },
  {
   "cell_type": "markdown",
   "id": "786652e2",
   "metadata": {},
   "source": [
    "#### Sequence Types or Check type\n"
   ]
  },
  {
   "cell_type": "code",
   "execution_count": null,
   "id": "178633e3",
   "metadata": {},
   "outputs": [],
   "source": [
    "# 1) str: String of characters.\n",
    "name = \"Alice\"  # Example of a string\n",
    "print(type(name))  # Output: <class 'str'>\n",
    "\n",
    "\n",
    "# 2) list: Ordered, Mutable collection of items.\n",
    "fruits = [\"apple\", \"banana\", \"cherry\"]  # Example of a list\n",
    "print(type(fruits))  # Output: <class 'list'>\n",
    "\n",
    "\n",
    "# 3) tuple: Ordered, Immutable collection of items.\n",
    "vegetables = (\"carrot\", \"broccoli\", \"spinach\")  # Example of a tuple\n",
    "print(type(vegetables))  # Output: <class 'tuple'>\n",
    "\n",
    "coordinates = (10, 20)\n",
    "print(type(coordinates))  # Output: <class 'tuple'>\n",
    "\n",
    "\n",
    "\n",
    "\n",
    "\n",
    "\n",
    "# 1) isinstance(): Check if an object is an instance of a class or type.\n",
    "x = 10\n",
    "print(isinstance(x, int))  # Output: True\n",
    "print(isinstance(x, float))  # Output: False\n",
    "print(isinstance(x, str))  # Output: False\n",
    "print(isinstance(x, (int, float)))  # Output: True (x is int)"
   ]
  },
  {
   "cell_type": "markdown",
   "id": "8846f9a9",
   "metadata": {},
   "source": [
    "#### Operators"
   ]
  },
  {
   "cell_type": "code",
   "execution_count": null,
   "id": "563e5aef",
   "metadata": {},
   "outputs": [],
   "source": [
    "# Bitwise Operators\n",
    "\n",
    "# 1) & (AND): Bitwise AND operator.\n",
    "a = 5  # Binary: 0101\n",
    "b = 3  # Binary: 0011\n",
    "result = a & b  # Binary: 0001\n",
    "print(result)  # Output: 1 (Binary: 0001)\n",
    "\n",
    "# 2) | (OR): Bitwise OR operator.\n",
    "result = a | b  # Binary: 0111\n",
    "print(result)  # Output: 7 (Binary: 0111)\n",
    "\n",
    "# 3) ^ (XOR): Bitwise XOR operator.\n",
    "result = a ^ b  # Binary: 0110\n",
    "print(result)  # Output: 6 (Binary: 0110)\n",
    "\n",
    "# 4) ~ (NOT): Bitwise NOT operator.\n",
    "result = ~a  # Binary: 1010 (Two's complement)\n",
    "print(result)  # Output: -6 (Binary: 1010)\n",
    "\n",
    "# 5) << (Left Shift): Left shift operator.\n",
    "result = a << 1  # Binary: 1010\n",
    "print(result)  # Output: 10 (Binary: 1010)\n",
    "\n",
    "# 6) >> (Right Shift): Right shift operator.\n",
    "result = a >> 1  # Binary: 0010\n",
    "print(result)  # Output: 2 (Binary: 0010)\n"
   ]
  },
  {
   "cell_type": "code",
   "execution_count": null,
   "id": "588100a5",
   "metadata": {},
   "outputs": [],
   "source": [
    "# Identity Operators\n",
    "\n",
    "# 1) is: Checks if two variables point to the same object.\n",
    "x = [1, 2, 3]\n",
    "y = x\n",
    "print(x is y)  # Output: True (same object)\n",
    "print(x is not y)  # Output: False (same object)\n",
    "z = [1, 2, 3]\n",
    "print(x is z)  # Output: False (different objects)\n",
    "print(x is not z)  # Output: True (different objects)\n",
    "\n",
    "\n",
    "# 2) is not: Checks if two variables do not point to the same object.\n",
    "print(x is not y)  # Output: False (same object)\n",
    "print(x is not z)  # Output: True (different objects)\n"
   ]
  },
  {
   "cell_type": "code",
   "execution_count": null,
   "id": "a661f758",
   "metadata": {},
   "outputs": [],
   "source": [
    "# Membership Operators\n",
    "\n",
    "# 1) in: Checks if a value is present in a sequence (string, list, tuple).\n",
    "fruits = [\"apple\", \"banana\", \"cherry\"]\n",
    "print(\"banana\" in fruits)  # Output: True\n",
    "print(\"orange\" in fruits)  # Output: False\n",
    "\n",
    "# 2) not in: Checks if a value is not present in a sequence (string, list, tuple).\n",
    "print(\"orange\" not in fruits)  # Output: True\n",
    "print(\"banana\" not in fruits)  # Output: False"
   ]
  },
  {
   "cell_type": "markdown",
   "id": "072a2441",
   "metadata": {},
   "source": [
    "### 2) Variables in Python\n",
    "\n",
    "- Variables are used to store data in memory.\n",
    "- Python is dynamically typed, so you don’t need to declare the type explicitly."
   ]
  },
  {
   "cell_type": "code",
   "execution_count": null,
   "id": "e62894c9",
   "metadata": {},
   "outputs": [],
   "source": [
    "# 1) Variable Declaration\n",
    "x = 10  # Integer\n",
    "name = \"Python\"  # String\n",
    "is_valid = True  # Boolean\n",
    "\n",
    "\n",
    "\n",
    "## 2) Best Practices\n",
    "\n",
    "# a) Follow snake_case naming convention for variables.\n",
    "first_name = \"Hemendra\"\n",
    "\n",
    "# b) Avoid using python keywords as variable names.\n",
    "def = 10  # SyntaxError: invalid syntax\n",
    "\n",
    "\n",
    "# c) Use constants for fixed values (by convention, constants are written in uppercase)\n",
    "PI = 3.14  # Constant for the value of pi\n"
   ]
  }
 ],
 "metadata": {
  "language_info": {
   "name": "python"
  }
 },
 "nbformat": 4,
 "nbformat_minor": 5
}
