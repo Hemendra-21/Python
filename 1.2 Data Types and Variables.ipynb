{
 "cells": [
  {
   "cell_type": "markdown",
   "id": "a9caa256",
   "metadata": {},
   "source": [
    "### 1. Data Types in Python\n",
    "\n",
    "Python has several built-in data types that can be categorized as follows:\n",
    "\n"
   ]
  },
  {
   "cell_type": "markdown",
   "id": "5254abcd",
   "metadata": {},
   "source": [
    "#### a) Numeric Types"
   ]
  },
  {
   "cell_type": "code",
   "execution_count": null,
   "id": "bfa98cf6",
   "metadata": {},
   "outputs": [],
   "source": [
    "# 1) int: Integer numbers.\n",
    "\n",
    "x = 10  # Example of an integer\n",
    "print(type(x))  # Output: <class 'int'>\n",
    "\n",
    "\n",
    "# 2) float: Floating-point numbers (decimals).\n",
    "y = 10.5  # Example of a float\n",
    "print(type(y))  # Output: <class 'float'>\n",
    "\n",
    "\n",
    "# 3) complex: Complex numbers (a + bj).\n",
    "z = 3 + 4j  # Example of a complex number\n",
    "print(type(z))  # Output: <class 'complex'>"
   ]
  },
  {
   "cell_type": "markdown",
   "id": "a61015fa",
   "metadata": {},
   "source": [
    "#### b) Boolean Type"
   ]
  },
  {
   "cell_type": "code",
   "execution_count": null,
   "id": "a0fe5cde",
   "metadata": {},
   "outputs": [],
   "source": [
    "# bool: Represents boolean values (True or False).\n",
    "is_active = True\n",
    "print(type(is_active))  # Output: <class 'bool'>"
   ]
  },
  {
   "cell_type": "markdown",
   "id": "786652e2",
   "metadata": {},
   "source": [
    "#### c) Sequence Types\n"
   ]
  },
  {
   "cell_type": "code",
   "execution_count": null,
   "id": "178633e3",
   "metadata": {},
   "outputs": [],
   "source": [
    "# 1) str: String of characters.\n",
    "name = \"Alice\"  # Example of a string\n",
    "print(type(name))  # Output: <class 'str'>\n",
    "\n",
    "\n",
    "# 2) list: Ordered, Mutable collection of items.\n",
    "fruits = [\"apple\", \"banana\", \"cherry\"]  # Example of a list\n",
    "print(type(fruits))  # Output: <class 'list'>\n",
    "\n",
    "\n",
    "# 3) tuple: Ordered, Immutable collection of items.\n",
    "vegetables = (\"carrot\", \"broccoli\", \"spinach\")  # Example of a tuple\n",
    "print(type(vegetables))  # Output: <class 'tuple'>\n",
    "\n",
    "coordinates = (10, 20)\n",
    "print(type(coordinates))  # Output: <class 'tuple'>"
   ]
  },
  {
   "cell_type": "markdown",
   "id": "9662a835",
   "metadata": {},
   "source": [
    "#### d) Set Types"
   ]
  },
  {
   "cell_type": "code",
   "execution_count": null,
   "id": "3901190b",
   "metadata": {},
   "outputs": [],
   "source": [
    "# 1) set: Unordered, Mutable collection of unique items.\n",
    "unique_numbers = {1, 2, 3, 3}\n",
    "print(unique_numbers)  # Output: {1, 2, 3}\n",
    "print(type(unique_numbers))  # Output: <class 'set'>\n",
    "\n",
    "\n",
    "# 2) frozenset: Immutable version of a set.\n",
    "frozen = frozenset([1, 2, 3, 3])\n",
    "print(frozen)  # Output: frozenset({1, 2, 3})\n",
    "print(type(frozen))  # Output: <class 'frozenset'>"
   ]
  },
  {
   "cell_type": "markdown",
   "id": "52efff64",
   "metadata": {},
   "source": [
    "#### e) Mapping Type"
   ]
  },
  {
   "cell_type": "code",
   "execution_count": null,
   "id": "26069492",
   "metadata": {},
   "outputs": [],
   "source": [
    "# dict: Key-value pairs.\n",
    "person = {\"name\": \"Alice\", \"age\": 30}  # Example of a dictionary\n",
    "print(type(person))  # Output: <class 'dict'>\n",
    "\n",
    "# 1) bytes: Immutable sequence of bytes.\n",
    "byte_data = b\"Hello\"  # Example of bytes\n",
    "print(type(byte_data))  # Output: <class 'bytes'>\n",
    "\n",
    "# 2) bytearray: Mutable sequence of bytes.\n",
    "byte_array = bytearray(b\"Hello\")  # Example of bytearray\n",
    "print(byte_array)  # Output: bytearray(b'Hello')\n",
    "print(type(byte_array))  # Output: <class 'bytearray'>\n",
    "\n",
    "# 3) memoryview: Memory view object.\n",
    "memory_view = memoryview(byte_array)  # Example of memoryview\n",
    "print(memory_view)  # Output: <memory at 0x...>\n",
    "print(type(memory_view))  # Output: <class 'memoryview'>"
   ]
  },
  {
   "cell_type": "markdown",
   "id": "072a2441",
   "metadata": {},
   "source": [
    "### 2) Variables in Python\n",
    "\n",
    "- Variables are used to store data in memory.\n",
    "- Python is dynamically typed, so you don’t need to declare the type explicitly."
   ]
  },
  {
   "cell_type": "code",
   "execution_count": null,
   "id": "e62894c9",
   "metadata": {},
   "outputs": [],
   "source": [
    "# 1) Variable Declaration\n",
    "x = 10  # Integer\n",
    "name = \"Python\"  # String\n",
    "is_valid = True  # Boolean\n",
    "\n",
    "\n",
    "\n",
    "# 2) Best Practices\n",
    "\n",
    "# a) Follow snake_case naming convention for variables.\n",
    "first_name = \"Hemendra\"\n",
    "\n",
    "# b) Avoid using python keywords as variable names.\n",
    "def = 10  # SyntaxError: invalid syntax\n",
    "\n",
    "\n",
    "# c) Use constants for fixed values (by convention, constants are written in uppercase)\n",
    "PI = 3.14  # Constant for the value of pi\n"
   ]
  },
  {
   "cell_type": "markdown",
   "id": "6804c4f9",
   "metadata": {},
   "source": [
    "#### 3. Type Conversion\n",
    "- Python allows you to convert between data types.\n",
    "\n"
   ]
  },
  {
   "cell_type": "code",
   "execution_count": null,
   "id": "d8209b09",
   "metadata": {},
   "outputs": [],
   "source": [
    "# a) Implicit Type Conversion\n",
    "x = 10  # Integer\n",
    "y = 20.5  # Float\n",
    "result = x + y  # Implicitly converts x to float\n",
    "print(result)  # Output: 30.5\n",
    "\n",
    "\n",
    "# b) Explicit Type Conversion\n",
    "x = 10  # Integer\n",
    "y = 20.5  # Float\n",
    "result = int(y) + x  # Explicitly converts y to int\n",
    "print(result)  # Output: 30"
   ]
  },
  {
   "cell_type": "markdown",
   "id": "04ed71ac",
   "metadata": {},
   "source": [
    "#### 4) Useful Functions"
   ]
  },
  {
   "cell_type": "code",
   "execution_count": null,
   "id": "556ae508",
   "metadata": {},
   "outputs": [],
   "source": [
    "# a) type(): Returns the type of an variable.\n",
    "x = 10\n",
    "print(type(x))  # Output: <class 'int'>\n",
    "\n",
    "\n",
    "# b) isinstance(): Checks if an object is an instance of a specified class or type.\n",
    "x = 10\n",
    "print(isinstance(x, int))  # Output: True\n",
    "\n",
    "\n",
    "# c) id(): Returns the memory address of an object.\n",
    "x = 10\n",
    "print(id(x))  # Output: Memory address of x (e.g., 140712345678912)\n",
    "\n",
    "\n",
    "# d) dir(): Returns a list of attributes and methods of an object.\n",
    "x = [1, 2, 3]\n",
    "print(dir(x))  # Output: List of attributes and methods of the list object"
   ]
  }
 ],
 "metadata": {
  "language_info": {
   "name": "python"
  }
 },
 "nbformat": 4,
 "nbformat_minor": 5
}
