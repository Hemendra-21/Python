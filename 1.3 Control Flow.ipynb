{
 "cells": [
  {
   "cell_type": "markdown",
   "id": "8191962a",
   "metadata": {},
   "source": [
    "## Control Flow"
   ]
  },
  {
   "cell_type": "markdown",
   "id": "b63efb15",
   "metadata": {},
   "source": [
    "Control flow in Python refers to the order in which individual statements, instructions, or function calls are executed or evaluated. \n",
    "\n",
    "Python provides several control flow statements to manage the execution of code based on conditions or loops.\n",
    "\n",
    "Key Control Flow Statements in Python:\n",
    "\n",
    "1) __Conditional Statements__ (`if`, `elif`, `else`): These are used to execute code blocks based on certain conditions."
   ]
  },
  {
   "cell_type": "code",
   "execution_count": null,
   "id": "36dbb57e",
   "metadata": {},
   "outputs": [],
   "source": [
    "x = 10\n",
    "if x > 5:\n",
    "    print(\"x is greater than 5\")\n",
    "elif x == 5:\n",
    "    print(\"x is equal to 5\")\n",
    "else:\n",
    "    print(\"x is less than 5\")"
   ]
  },
  {
   "cell_type": "markdown",
   "id": "3d0361c9",
   "metadata": {},
   "source": [
    "2) __Loops (`for, while`)__: Loops are used to repeat a block of code multiple times."
   ]
  },
  {
   "cell_type": "code",
   "execution_count": null,
   "id": "1eef6a0a",
   "metadata": {},
   "outputs": [],
   "source": [
    "# for Loop : Iterates over a sequence (like a list, tuple, or range).\n",
    "for i in range(5):\n",
    "    print(i)  # Prints numbers from 0 to 4"
   ]
  },
  {
   "cell_type": "code",
   "execution_count": null,
   "id": "f54f07cc",
   "metadata": {},
   "outputs": [],
   "source": [
    "# while Loop: Repeats as long as a condition is True.\n",
    "count = 0\n",
    "while count < 5:\n",
    "    print(count)\n",
    "    count += 1"
   ]
  },
  {
   "cell_type": "markdown",
   "id": "54a91eaf",
   "metadata": {},
   "source": [
    "3) __Control Flow Modifiers__ (`break`, `continue`, `pass`): These modify the behavior of loops or conditional statements.\n"
   ]
  },
  {
   "cell_type": "code",
   "execution_count": null,
   "id": "b06beb1e",
   "metadata": {},
   "outputs": [],
   "source": [
    "# break: Exits the loop prematurely.\n",
    "for i in range(10):\n",
    "    if i == 5:\n",
    "        break\n",
    "    print(i)  # Stops printing when i == 5\n",
    "\n",
    "\n",
    "\n",
    "# continue: Skips the current iteration and moves to the next one.\n",
    "for i in range(5):\n",
    "    if i == 2:\n",
    "        continue\n",
    "    print(i)  # Skips printing 2\n",
    "\n",
    "\n",
    "\n",
    "# pass: Does nothing; acts as a placeholder.\n",
    "if True:\n",
    "    pass  # Placeholder; does nothing; it is placed here for future code\n",
    "    "
   ]
  },
  {
   "cell_type": "markdown",
   "id": "4da66ea4",
   "metadata": {},
   "source": [
    "4) __Exception Handling__(`try`, `except`, `finally`): Used to handle errors and exceptions gracefully)"
   ]
  },
  {
   "cell_type": "code",
   "execution_count": null,
   "id": "827f71e0",
   "metadata": {},
   "outputs": [],
   "source": [
    "try:\n",
    "    result = 10 / 0\n",
    "except ZeroDivisionError:\n",
    "    print(\"Cannot divide by zero!\")\n",
    "finally:\n",
    "    print(\"Execution complete.\")"
   ]
  },
  {
   "cell_type": "markdown",
   "id": "acac2f12",
   "metadata": {},
   "source": [
    "5) `match` Statement (Python 3.10+): A pattern-matching statement similar to `switch` in other languages."
   ]
  },
  {
   "cell_type": "code",
   "execution_count": null,
   "id": "b4c279d1",
   "metadata": {},
   "outputs": [],
   "source": [
    "command = \"start\"\n",
    "match command:\n",
    "    case \"start\":\n",
    "        print(\"Starting...\")\n",
    "    case \"stop\":\n",
    "        print(\"Stopping...\")\n",
    "    case _:\n",
    "        print(\"Unknown command\")"
   ]
  }
 ],
 "metadata": {
  "language_info": {
   "name": "python"
  }
 },
 "nbformat": 4,
 "nbformat_minor": 5
}
