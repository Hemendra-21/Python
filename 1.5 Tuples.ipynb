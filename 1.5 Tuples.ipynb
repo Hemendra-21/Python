{
 "cells": [
  {
   "cell_type": "markdown",
   "id": "50a11e47",
   "metadata": {},
   "source": [
    "### Tuples\n"
   ]
  },
  {
   "cell_type": "code",
   "execution_count": null,
   "id": "f3c685d8",
   "metadata": {},
   "outputs": [],
   "source": [
    "# what are tuples?\n",
    "\n",
    "# tuples are immutable sequences\n",
    "# tuples are hashable\n",
    "# tuples are ordered\n",
    "# tuples can contain duplicate elements\n",
    "# tuples can contain mixed data types\n",
    "# tuples are defined with parentheses\n",
    "# tuples can contain any data type\n",
    "# tuples can be nested\n",
    "# tuples can be empty\n",
    "# tuples can be created with the tuple() constructor\n",
    "# tuples can be unpacked\n",
    "# tuples can be sliced\n",
    "# tuples can be concatenated\n",
    "# tuples can be repeated\n",
    "# tuples can be iterated\n",
    "# tuples can be used as dictionary keys\n",
    "# tuples can be used as set elements\n",
    "# tuples can be used as function arguments\n",
    "# tuples can be used as function return values\n",
    "\n",
    "\n",
    "\n",
    "\n",
    "# count() on tuples\n",
    "# example: count the number of times a value appears in a tuple\n",
    "\n",
    "tuple_a = (1, 2, 3, 4, 5, 1, 2, 3, 4, 5)\n",
    "print(tuple_a.count(1))  # 2\n",
    "print(tuple_a.count(2))  # 2\n",
    "\n",
    "\n",
    "\n",
    "\n",
    "# index() on tuples\n",
    "# example: find the index of the first occurrence of a value in a tuple\n",
    "tuple_b = (1, 2, 3, 4, 5, 1, 2, 3, 4, 5)\n",
    "print(tuple_b.index(1))  # 0\n",
    "print(tuple_b.index(2))  # 1\n",
    "print(tuple_b.index(20))  # ValueError: tuple.index(x): x not in tuple\n"
   ]
  }
 ],
 "metadata": {
  "language_info": {
   "name": "python"
  }
 },
 "nbformat": 4,
 "nbformat_minor": 5
}
