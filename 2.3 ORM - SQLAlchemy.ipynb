{
 "cells": [
  {
   "cell_type": "markdown",
   "id": "74782afa",
   "metadata": {},
   "source": [
    "### **What is SQLAlchemy ?**\n",
    "\n",
    "\n",
    "- **SQLAlchemy** is a popular Python library used for working with databases. \n",
    "\n",
    "- It provides a **high-level Object Relational Mapping (ORM)** system, which allows developers to interact with databases using Python objects instead of writing raw SQL queries. \n",
    "- It also includes a **Core layer for writing raw SQL queries** directly if needed.\n",
    "\n",
    "\n",
    "---"
   ]
  },
  {
   "cell_type": "markdown",
   "id": "415b8257",
   "metadata": {},
   "source": [
    "\n",
    "#### **✨ Key Features**\n",
    "\n",
    "- **ORM (Object Relational Mapper):**  \n",
    "  SQLAlchemy provides an ORM feature where **Python classes are directly mapped to database tables**.  \n",
    "  This means you can work with your database using **Python objects and methods**, rather than writing raw SQL queries.  \n",
    "  It makes working with relational data **easier, more intuitive, and more maintainable**, especially in large projects where you have many tables and relationships.\n",
    "\n",
    "- **Database Abstraction:**  \n",
    "  SQLAlchemy supports multiple database backends like **SQLite, MySQL, PostgreSQL, Oracle**, and more.  \n",
    "  > **Database abstraction** in SQLAlchemy means you can **write your database interaction code once** and **run it on different types of databases** without changing your Python code.  \n",
    "  >\n",
    "  > SQLAlchemy automatically handles internal differences like **SQL syntax**, **data types**, **connection behaviors**, and more.  \n",
    "  >\n",
    "  > This makes your application **database-independent**, allowing you to **switch or scale databases easily** if your project needs grow.\n",
    "\n",
    "- **Query Building:**  \n",
    "  SQLAlchemy provides a **powerful and flexible system** for building SQL queries **programmatically** in Python.  \n",
    "  Instead of manually writing raw SQL strings, you can **build complex queries using Python objects**, which helps avoid mistakes, makes queries more readable, and protects against SQL injection attacks.\n",
    "\n",
    "- **Schema Management:**  \n",
    "  SQLAlchemy allows you to **define your database schema (tables, columns, constraints)** using Python code.  \n",
    "  It also provides tools to **create**, **update**, and **manage** your database schema easily, making it simpler to maintain the structure of your database as your application evolves.\n",
    "\n",
    "- **Flexibility:**  \n",
    "  SQLAlchemy is very flexible because it offers **two different ways** to work with databases:  \n",
    "  - **ORM Layer:** For developers who want a **high-level abstraction** working with Python objects.  \n",
    "  - **Core Layer (SQL Expression Language):** For developers who want to **write lower-level SQL queries manually** with full control.  \n",
    "  > This flexibility means you can **choose the right approach** depending on the complexity of the task — sometimes using ORM for simplicity, and sometimes using Core for performance and fine control.\n",
    "\n",
    "---\n",
    "\n",
    "#### 🚀 Why SQLAlchemy is Useful for Any Scale of Project\n",
    "\n",
    "> **\"Whether you're building a small-scale web application or a large enterprise system, SQLAlchemy can streamline your database interactions and provide a robust foundation for your Python project setup.\"**\n",
    "\n",
    "- **Small-Scale Web Applications:**  \n",
    "  When you're building simple applications (like a personal blog, small online store, portfolio site), SQLAlchemy **saves time** by **handling common database operations easily** — inserting, querying, updating, deleting — without having to write raw SQL every time.  \n",
    "  It keeps your project simple, clean, and easier to maintain.\n",
    "\n",
    "- **Large Enterprise Systems:**  \n",
    "  In bigger applications (like large e-commerce platforms, banking systems, or healthcare software), database operations become **very complex** — you may have **hundreds of tables, relationships, transactions, and performance requirements**.  \n",
    "  SQLAlchemy provides **advanced features like optimized query building, transaction management, connection pooling, migrations, etc.**, which are **essential** for building **robust, scalable, and secure systems**.\n",
    "\n",
    "- **Streamlining Database Interactions:**  \n",
    "  SQLAlchemy simplifies the way your application communicates with the database.\n",
    "  Instead of manually handling connections, writing lengthy SQL queries, and managing errors at every step, you can work directly with Python classes and objects.\n",
    "\n",
    "  This approach automates common database operations (like inserting, updating, deleting, and querying) and makes your codebase more organized, readable, and easier to maintain.\n",
    "\n",
    "- **Providing a Robust Foundation:**  \n",
    "  SQLAlchemy helps set up a **solid structure** from the beginning of your project.  \n",
    "  It ensures that your **database layer is scalable, maintainable, and adaptable** as the application grows, reducing technical debt in the future.\n",
    "\n",
    "---\n"
   ]
  },
  {
   "cell_type": "markdown",
   "id": "7724b604",
   "metadata": {},
   "source": []
  },
  {
   "cell_type": "markdown",
   "id": "8f1a60ef",
   "metadata": {},
   "source": [
    "#### Step 1: Install PostgreSQL Dependencies\n",
    "\n",
    "To use PostgreSQL with **SQLAlchemy**, you'll need to install the **psycopg2** library, which is the PostgreSQL adapter for Python.\n",
    "\n",
    "You can install it using *pip*:"
   ]
  },
  {
   "cell_type": "code",
   "execution_count": null,
   "id": "cdecc8b6",
   "metadata": {
    "vscode": {
     "languageId": "powershell"
    }
   },
   "outputs": [],
   "source": [
    "pip install psycopg2 \n",
    "\n",
    "pip install psycopg2-binary # for a lighter version"
   ]
  },
  {
   "cell_type": "markdown",
   "id": "aa3e9f47",
   "metadata": {},
   "source": [
    "#### Step 2: Update the Database URL\n",
    "\n",
    "In SQLite, we used the connection string `sqlite:///test.db`. For PostgreSQL, the connection string will look like this:"
   ]
  },
  {
   "cell_type": "code",
   "execution_count": null,
   "id": "6d568c82",
   "metadata": {},
   "outputs": [],
   "source": [
    "postgresql://<username>:<password>@<host>:<port>/<dbname>"
   ]
  },
  {
   "cell_type": "markdown",
   "id": "0cbc3e43",
   "metadata": {},
   "source": [
    "`<username>`: The username for your PostgreSQL database (e.g., `postgres`).\n",
    "\n",
    "`<password>`: The password for your PostgreSQL user.\n",
    "\n",
    "`<host>`: The host where your PostgreSQL server is running (e.g., `localhost` if it's running locally).\n",
    "\n",
    "`<port>`: The port for PostgreSQL (default is 5432).\n",
    "\n",
    "`<dbname>`: The name of the database you want to connect to."
   ]
  }
 ],
 "metadata": {
  "language_info": {
   "name": "python"
  }
 },
 "nbformat": 4,
 "nbformat_minor": 5
}
