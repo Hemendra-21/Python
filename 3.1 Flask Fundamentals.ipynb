{
 "cells": [
  {
   "cell_type": "markdown",
   "id": "5353ec52",
   "metadata": {},
   "source": [
    "### What is Flask?\n",
    "\n",
    "- Flask is a lightweight, simple, and powerful web framework for Python.\n",
    "\n",
    "- It helps you to **build web servers and APIs** very easily.\n",
    "\n",
    "- It's called a \"**microframework**\" because it doesn't force any directory structure, database, or authentication by default — you add only what you need.\n",
    "\n",
    "---------"
   ]
  },
  {
   "cell_type": "markdown",
   "id": "37bb1826",
   "metadata": {},
   "source": [
    "### App Structure and Routing (`@app.route`)\n"
   ]
  },
  {
   "cell_type": "markdown",
   "id": "10aeb2ea",
   "metadata": {},
   "source": [
    "#### 👉 Minimal Flask app structure:\n"
   ]
  },
  {
   "cell_type": "code",
   "execution_count": null,
   "id": "4291e0c9",
   "metadata": {},
   "outputs": [],
   "source": [
    "your_project/\n",
    "├── app.py\n",
    "├── templates/\n",
    "│   └── home.html\n",
    "├── static/\n",
    "│   └── style.css\n",
    "\n",
    "# ✅ For simple projects, app.py is enough initially."
   ]
  },
  {
   "cell_type": "markdown",
   "id": "da03f010",
   "metadata": {},
   "source": [
    "---------"
   ]
  },
  {
   "cell_type": "markdown",
   "id": "3f6c6e87",
   "metadata": {},
   "source": [
    "#### Routing - `@app.route`"
   ]
  },
  {
   "cell_type": "markdown",
   "id": "c45546ec",
   "metadata": {},
   "source": [
    "- **Routing** means connecting a URL to a Python function.\n",
    "\n",
    "- You define **routes** using the `@app.route()` decorator."
   ]
  },
  {
   "cell_type": "code",
   "execution_count": null,
   "id": "4805b27d",
   "metadata": {},
   "outputs": [],
   "source": [
    "from flask import Flask \n",
    "\n",
    "app = Flask(__name__)\n",
    "\n",
    "@app.route('/')\n",
    "def home():\n",
    "    return 'Hello, Welcome to flask!'\n",
    "\n",
    "@app.route('/about')\n",
    "def about():\n",
    "    return 'This is the About Page.'\n",
    "\n",
    "if __name__ == '__main__':\n",
    "    app.run(host='0.0.0.0',port=8000, debug=True)"
   ]
  },
  {
   "cell_type": "markdown",
   "id": "c3f915b4",
   "metadata": {},
   "source": [
    "What is host='0.0.0.0' ?\n",
    "\n",
    "- 127.0.0.1 → Only your own computer can access your Flask app. (localhost)\n",
    "\n",
    "- 0.0.0.0 → Any device in the same Wi-Fi/LAN network can access your Flask app.\n",
    "\n",
    "\n"
   ]
  },
  {
   "cell_type": "markdown",
   "id": "f2754ed5",
   "metadata": {},
   "source": [
    "| Host Setting | Who Can Access | Example URL |\n",
    "|--------------|----------------|-------------|\n",
    "| 127.0.0.1    | Only your computer | http://127.0.0.1:5000 |\n",
    "| 0.0.0.0      | Any device on same network (mobile, other PC) | http://`<your-laptop-ip>`:5000 |\n"
   ]
  },
  {
   "cell_type": "markdown",
   "id": "8ff4d365",
   "metadata": {},
   "source": [
    "---------"
   ]
  },
  {
   "cell_type": "markdown",
   "id": "21caed3b",
   "metadata": {},
   "source": [
    "### Request and Response Handling"
   ]
  },
  {
   "cell_type": "markdown",
   "id": "7a4fd18b",
   "metadata": {},
   "source": [
    "- 👉 What is a Request?\n",
    "\n",
    "    - Anything that the **client** (browser or app) sends to your server.\n",
    "\n",
    "    - Example: visiting a page, submitting a form, API calls.\n",
    "\n",
    "- 👉 What is a Response?\n",
    "\n",
    "    - Whatever your **server** returns to the client.\n",
    "\n",
    "    - Example: a webpage, JSON data, error message."
   ]
  },
  {
   "cell_type": "code",
   "execution_count": null,
   "id": "aaad2fbf",
   "metadata": {},
   "outputs": [],
   "source": [
    "from flask import Flask, request\n",
    "\n",
    "app = Flask(__name__)\n",
    "\n",
    "@app.route('/')\n",
    "def index():\n",
    "    return \"Simple Response from Server\"\n",
    "\n",
    "@app.route('/greet', methods=['GET'])\n",
    "def greet():\n",
    "    name = request.args.get('name', 'Guest')\n",
    "    return f\"Hello, {name}!\"\n",
    "\n",
    "if __name__ == '__main__':\n",
    "    app.run(host='0.0.0.0', port=5000, debug=True)\n"
   ]
  },
  {
   "cell_type": "markdown",
   "id": "8f5bf452",
   "metadata": {},
   "source": [
    "✅ Explanation:\n",
    "\n",
    "- `/greet?name=Hemendra` → sends name as query parameter.\n",
    "\n",
    "- `request.args.get('name')` extracts it.\n",
    "\n",
    "---------"
   ]
  },
  {
   "cell_type": "markdown",
   "id": "1f7100e5",
   "metadata": {},
   "source": [
    "### Using `request.args`,  `request.json`, `jsonify()`"
   ]
  },
  {
   "cell_type": "markdown",
   "id": "3f2ac9ad",
   "metadata": {},
   "source": [
    "1) `request.args`\n",
    "\n",
    "    > Used to get query parameters from the URL."
   ]
  },
  {
   "cell_type": "code",
   "execution_count": null,
   "id": "6aaad9db",
   "metadata": {},
   "outputs": [],
   "source": [
    "@app.route('/search')\n",
    "def search():\n",
    "    query = request.args.get('q')\n",
    "    return f\"You searched for: {query}\"\n",
    "\n",
    "\n",
    "# Visiting: /search?q=flask → Output: You searched for: flask"
   ]
  },
  {
   "cell_type": "markdown",
   "id": "9115b70f",
   "metadata": {},
   "source": [
    "2. `request.json`\n",
    "\n",
    "    > Used when client sends **JSON data** (in **POST/PUT** requests)."
   ]
  },
  {
   "cell_type": "code",
   "execution_count": null,
   "id": "ce41520b",
   "metadata": {},
   "outputs": [],
   "source": [
    "@app.route('/api/data', methods=['POST'])\n",
    "def api_data():\n",
    "    data = request.json\n",
    "    name = data.get('name')\n",
    "    return f\"Received name: {name}\""
   ]
  },
  {
   "cell_type": "markdown",
   "id": "63393812",
   "metadata": {},
   "source": [
    "Client sends JSON:"
   ]
  },
  {
   "cell_type": "code",
   "execution_count": null,
   "id": "753feb45",
   "metadata": {},
   "outputs": [],
   "source": [
    "{\n",
    "  \"name\": \"Hemendra\"\n",
    "}\n",
    "\n",
    "# Server reads request.json easily."
   ]
  },
  {
   "cell_type": "markdown",
   "id": "e428650d",
   "metadata": {},
   "source": [
    "3. jsonify()\n",
    "\n",
    "    > Used to send response in JSON format easily and properly."
   ]
  },
  {
   "cell_type": "code",
   "execution_count": null,
   "id": "477675fe",
   "metadata": {},
   "outputs": [],
   "source": [
    "from flask import jsonify\n",
    "\n",
    "@app.route('/api/info')\n",
    "def api_info():\n",
    "    info = {\n",
    "        \"name\": \"Hemendra\",\n",
    "        \"tech\": \"Python + Flask\"\n",
    "    }\n",
    "    return jsonify(info)\n",
    "\n",
    "# Returns a JSON response with proper Content-Type: application/json."
   ]
  },
  {
   "cell_type": "markdown",
   "id": "b8bb2fa7",
   "metadata": {},
   "source": [
    "Best Practices:\n",
    "\n",
    "- Always use jsonify() for API responses (instead of returning dictionaries directly).\n",
    "\n",
    "- Always check if request.json exists before accessing fields."
   ]
  },
  {
   "cell_type": "code",
   "execution_count": null,
   "id": "458e252b",
   "metadata": {},
   "outputs": [],
   "source": [
    "from flask import Flask, render_template, request, jsonify\n",
    "\n",
    "app = Flask(__name__)\n",
    "\n",
    "\n",
    "@app.route('/')\n",
    "def greeting():\n",
    "    return render_template('home.html')\n",
    "\n",
    "\n",
    "@app.route('/greet',methods=['GET'])\n",
    "def greet():\n",
    "    name = request.args.get('name','Guest')\n",
    "    return f\"Hello, {name}!\"\n",
    "\n",
    "\n",
    "\n",
    "@app.route('/search')\n",
    "def search():\n",
    "    query = request.args.get('q')\n",
    "    return f\"You searched for: {query}\"\n",
    "\n",
    "\n",
    "\n",
    "@app.route('/api/data', methods=['POST']) # this is working in postman\n",
    "def api_data():\n",
    "    # if request.method == 'GET':\n",
    "    #     return jsonify('This is GET MEthod')\n",
    "    data = request.get_json(force=True, silent=True)\n",
    "    if data is None:\n",
    "        return f\"Invalid JSON\"\n",
    "    \n",
    "    name = data.get('name')\n",
    "    return jsonify({'message': f\"Received name: {name}\"}), 200\n",
    "\n",
    "\n",
    "\n",
    "\n",
    "if __name__ == '__main__':\n",
    "    app.run(host='0.0.0.0', debug=True)\n"
   ]
  }
 ],
 "metadata": {
  "language_info": {
   "name": "python"
  }
 },
 "nbformat": 4,
 "nbformat_minor": 5
}
